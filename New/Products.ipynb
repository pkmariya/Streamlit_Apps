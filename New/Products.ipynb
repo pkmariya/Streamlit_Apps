{
 "cells": [
  {
   "cell_type": "code",
   "execution_count": null,
   "metadata": {},
   "outputs": [],
   "source": [
    "\n",
    "# from bs4 import BeautifulSoup as soup\n",
    "# from urllib.request import urlopen as urlReq\n",
    "\n",
    "# my_url = \"www.google.com\"\n",
    "\n",
    "# myClient = urlReq(my_url)\n",
    "# page_html = myClient.read()\n",
    "# myClient.close()\n",
    "# page_soup = soup(page_html, \"html.parser\")\n",
    "\n",
    "# containers = page_soup.findAll(\"div\", {\"class\": \"col_2-gKeQ\"})\n",
    "# print(len(containers))\n",
    "\n",
    "print(\"Hello Python!\")"
   ]
  }
 ],
 "metadata": {
  "kernelspec": {
   "display_name": "Python 3.7.9 64-bit",
   "language": "python",
   "name": "python3"
  },
  "language_info": {
   "codemirror_mode": {
    "name": "ipython",
    "version": 3
   },
   "file_extension": ".py",
   "mimetype": "text/x-python",
   "name": "python",
   "nbconvert_exporter": "python",
   "pygments_lexer": "ipython3",
   "version": "3.7.9"
  },
  "orig_nbformat": 4,
  "vscode": {
   "interpreter": {
    "hash": "aee8b7b246df8f9039afb4144a1f6fd8d2ca17a180786b69acc140d282b71a49"
   }
  }
 },
 "nbformat": 4,
 "nbformat_minor": 2
}
