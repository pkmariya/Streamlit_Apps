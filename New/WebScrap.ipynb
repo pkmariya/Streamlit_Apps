{
 "cells": [
  {
   "cell_type": "code",
   "execution_count": null,
   "metadata": {},
   "outputs": [],
   "source": [
    "from bs4 import BeautifulSoup as soup\n",
    "from urllib.request import urlopen as urlReq\n",
    "\n",
    "my_url = \"https://flipkart.com/search?q=iphone&otracker=start&as-show=on&as=off\"\n",
    "# my_url = \"https://www.amazon.in/s?k=iphone+13&crid=39P6O8K2UOZHG&sprefix=iphone%2Caps%2C272&ref=nb_sb_ss_ts-doa-p_3_6\"\n",
    "\n",
    "\n",
    "myClient = urlReq(my_url)\n",
    "page_html = myClient.read()\n",
    "myClient.close()\n",
    "page_soup = soup(page_html, \"html.parser\")\n",
    "\n",
    "products = page_soup.findAll(\"div\", {\"class\": \"_4rR01T\"})\n",
    "\n",
    "prices = page_soup.findAll(\"div\", {\"class\": \"_30jeq3 _1_WHN1\"})\n",
    "\n",
    "ratings = page_soup.findAll(\"div\", {\"class\": \"_3LWZlK\"})\n",
    "\n",
    "filename = \"products.csv\"\n",
    "f = open(filename, \"w\")\n",
    "\n",
    "headers = \"Product Name, Price, Rating\\n\"\n",
    "f.write(headers)\n",
    "\n",
    "for item in range(len(products)):\n",
    "  product_name = products[item].text\n",
    "  product_price = prices[item].text\n",
    "  product_rating = ratings[item].text\n",
    "\n",
    "  f.write(product_name + product_price + product_rating)\n",
    "  print(product_name, product_price, product_rating)\n",
    "\n",
    "f.close()"
   ]
  }
 ],
 "metadata": {
  "language_info": {
   "name": "python"
  },
  "orig_nbformat": 4
 },
 "nbformat": 4,
 "nbformat_minor": 2
}
