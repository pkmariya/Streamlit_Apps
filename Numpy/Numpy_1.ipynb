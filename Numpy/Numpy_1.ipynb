{
 "cells": [
  {
   "cell_type": "code",
   "execution_count": 312,
   "metadata": {},
   "outputs": [],
   "source": [
    "import numpy as np\n",
    "data = np.loadtxt(\"/Users/mariya/pers/Learnings/Python/Scaler Notes/Common Core/fitness copy.txt\", dtype='str')\n",
    "\n"
   ]
  },
  {
   "cell_type": "code",
   "execution_count": 313,
   "metadata": {},
   "outputs": [
    {
     "data": {
      "text/plain": [
       "array([1, 2, 3, 4, 1, 2, 3, 4])"
      ]
     },
     "execution_count": 313,
     "metadata": {},
     "output_type": "execute_result"
    }
   ],
   "source": [
    "# Concatenate\n",
    "a = np.arange(1, 5)\n",
    "b = np.arange(1, 5)\n",
    "\n",
    "np.concatenate([a, b])\n"
   ]
  },
  {
   "cell_type": "markdown",
   "metadata": {},
   "source": [
    "# np.argsort() gives the indexes\n",
    "# np.argmin() returns the min value of index\n",
    "# np.argmax() returns the max value of index\n",
    "# np.unique() \n",
    "# np.mean()\n",
    "# np.matmul() OR np.dot() OR m%n are used for matrix multiplication\n",
    "# np.vectorize()\n",
    "# np.tile() duplicates the given matrix\n",
    "# 1d array is considered as Vector, so np.concatenate doesn't work for 1d array\n",
    "# np.hstack adds two arrays horizontally \n",
    "# np.vstack adds two arrays vertically\n",
    "# Concatenate, hstack & vstack almost same in terms of operations; the only difference b/w Concatenate and h or vstacks is - Conceatenate doesn't work on 1d array; but h & v stacks work even for 1d array. But for all three functions, the matrix dimenstions must be MxN and NxM format.\n",
    "# np.split() splits the given array, np.hsplit() "
   ]
  },
  {
   "cell_type": "code",
   "execution_count": 314,
   "metadata": {},
   "outputs": [
    {
     "name": "stdout",
     "output_type": "stream",
     "text": [
      "[ 1  2  3  4  5  6  7  8  9 10 11 12]\n"
     ]
    }
   ],
   "source": [
    "d = np.arange(1, 13)\n",
    "print(d)"
   ]
  },
  {
   "cell_type": "code",
   "execution_count": 315,
   "metadata": {},
   "outputs": [
    {
     "data": {
      "text/plain": [
       "[array([1, 2, 3, 4, 5, 6]), array([ 7,  8,  9, 10, 11, 12])]"
      ]
     },
     "execution_count": 315,
     "metadata": {},
     "output_type": "execute_result"
    }
   ],
   "source": [
    "np.split(d, 2)"
   ]
  },
  {
   "cell_type": "code",
   "execution_count": 316,
   "metadata": {},
   "outputs": [
    {
     "data": {
      "text/plain": [
       "[array([1]),\n",
       " array([2]),\n",
       " array([3]),\n",
       " array([4]),\n",
       " array([5]),\n",
       " array([6]),\n",
       " array([7]),\n",
       " array([8]),\n",
       " array([9]),\n",
       " array([10]),\n",
       " array([11]),\n",
       " array([12])]"
      ]
     },
     "execution_count": 316,
     "metadata": {},
     "output_type": "execute_result"
    }
   ],
   "source": [
    "np.split(d, 12)"
   ]
  },
  {
   "cell_type": "code",
   "execution_count": 317,
   "metadata": {},
   "outputs": [
    {
     "name": "stdout",
     "output_type": "stream",
     "text": [
      "[1 2 3 4]\n",
      "[3 4 5 6]\n"
     ]
    }
   ],
   "source": [
    "x = np.arange(1, 5)\n",
    "print(x)\n",
    "x += 2\n",
    "print(x)"
   ]
  },
  {
   "cell_type": "markdown",
   "metadata": {},
   "source": [
    "# we can apply following functions with this data set\n",
    "# np.mean(step_count)\n",
    "# np.argmax(step_count)\n",
    "# np.argmin(step_count)\n",
    "# np.unique() returns the list of categories"
   ]
  },
  {
   "cell_type": "code",
   "execution_count": 318,
   "metadata": {},
   "outputs": [
    {
     "name": "stdout",
     "output_type": "stream",
     "text": [
      "Date when Max Step Count: 14-12-2017\n",
      "Date when Min Step Count: 08-10-2017\n"
     ]
    }
   ],
   "source": [
    "import numpy as np\n",
    "data = np.loadtxt(\"/Users/mariya/pers/Learnings/Python/Scaler Notes/Common Core/fitness copy.txt\", dtype='str')\n",
    "data = data.T\n",
    "date, step_count, mood, calories_burnt, hours_of_sleep, bool_active, weight = data\n",
    "step_count = np.array(step_count, dtype=\"int\")\n",
    "calories_burnt=np.array(calories_burnt, dtype=\"int\")\n",
    "hours_of_sleep = np.array(hours_of_sleep, dtype=\"int\")\n",
    "weight = np.array(weight, dtype=\"int\")\n",
    "date_when_high_step_count = date[step_count.argmax()]\n",
    "print(f\"Date when Max Step Count: {date_when_high_step_count}\")\n",
    "date_when_low_step_count = date[np.argmin(step_count)]\n",
    "print(f\"Date when Min Step Count: {date_when_low_step_count}\")\n"
   ]
  },
  {
   "cell_type": "code",
   "execution_count": 319,
   "metadata": {},
   "outputs": [],
   "source": [
    "mood[mood==\"300\"]=\"Happy\"\n",
    "mood[mood==\"200\"]=\"Neutral\"\n",
    "mood[mood==\"100\"]=\"Sad\""
   ]
  },
  {
   "cell_type": "code",
   "execution_count": 320,
   "metadata": {},
   "outputs": [
    {
     "name": "stdout",
     "output_type": "stream",
     "text": [
      "Mood of the person when Max Step Count: Happy\n",
      "Mood of the person when Min Step Count: Sad\n"
     ]
    }
   ],
   "source": [
    "mood_when_max_step_count = mood[np.argmax(step_count)]\n",
    "print(f\"Mood of the person when Max Step Count: {mood_when_max_step_count}\")\n",
    "mood_when_min_step_count = mood[np.argmin(step_count)]\n",
    "print(f\"Mood of the person when Min Step Count: {mood_when_min_step_count}\")"
   ]
  },
  {
   "cell_type": "code",
   "execution_count": 321,
   "metadata": {},
   "outputs": [
    {
     "name": "stdout",
     "output_type": "stream",
     "text": [
      "Mood when Max Calories Burnt: Happy\n"
     ]
    }
   ],
   "source": [
    "mood_when_max_cal_burnt = mood[np.argmax(calories_burnt)]\n",
    "print(f\"Mood when Max Calories Burnt: {mood_when_max_cal_burnt}\")"
   ]
  },
  {
   "cell_type": "code",
   "execution_count": 322,
   "metadata": {},
   "outputs": [
    {
     "data": {
      "text/plain": [
       "2103.0689655172414"
      ]
     },
     "execution_count": 322,
     "metadata": {},
     "output_type": "execute_result"
    }
   ],
   "source": [
    "temp = np.mean(step_count[mood==\"Sad\"])\n",
    "temp"
   ]
  },
  {
   "cell_type": "code",
   "execution_count": 323,
   "metadata": {},
   "outputs": [
    {
     "data": {
      "text/plain": [
       "2103.0689655172414"
      ]
     },
     "execution_count": 323,
     "metadata": {},
     "output_type": "execute_result"
    }
   ],
   "source": [
    "avg_step_count_on_sad = np.mean(step_count[mood==\"Sad\"])\n",
    "avg_step_count_on_sad"
   ]
  },
  {
   "cell_type": "code",
   "execution_count": 324,
   "metadata": {},
   "outputs": [
    {
     "data": {
      "text/plain": [
       "137"
      ]
     },
     "execution_count": 324,
     "metadata": {},
     "output_type": "execute_result"
    }
   ],
   "source": [
    "max_cal_burnt_when_happy = np.argmax(calories_burnt[mood==\"Happy\"])\n",
    "calories_burnt[max_cal_burnt_when_happy]"
   ]
  },
  {
   "cell_type": "code",
   "execution_count": 325,
   "metadata": {},
   "outputs": [
    {
     "data": {
      "text/plain": [
       "197"
      ]
     },
     "execution_count": 325,
     "metadata": {},
     "output_type": "execute_result"
    }
   ],
   "source": [
    "min_cal_burnt_when_sad = np.argmin(calories_burnt[mood==\"Sad\"])\n",
    "calories_burnt[min_cal_burnt_when_sad]"
   ]
  },
  {
   "cell_type": "code",
   "execution_count": 326,
   "metadata": {},
   "outputs": [
    {
     "data": {
      "text/plain": [
       "4033"
      ]
     },
     "execution_count": 326,
     "metadata": {},
     "output_type": "execute_result"
    }
   ],
   "source": [
    "max_step_count_when_happy = np.argmax(step_count[mood==\"Happy\"])\n",
    "step_count[max_step_count_when_happy]"
   ]
  },
  {
   "cell_type": "code",
   "execution_count": 327,
   "metadata": {},
   "outputs": [
    {
     "data": {
      "text/plain": [
       "6041"
      ]
     },
     "execution_count": 327,
     "metadata": {},
     "output_type": "execute_result"
    }
   ],
   "source": [
    "min_step_count_when_sad = np.argmin(step_count[mood==\"Sad\"])\n",
    "step_count[min_step_count_when_sad]"
   ]
  },
  {
   "cell_type": "code",
   "execution_count": 328,
   "metadata": {},
   "outputs": [
    {
     "data": {
      "text/plain": [
       "(array(['Happy', 'Neutral', 'Sad'], dtype='<U10'), array([40, 27, 29]))"
      ]
     },
     "execution_count": 328,
     "metadata": {},
     "output_type": "execute_result"
    }
   ],
   "source": [
    "np.unique(mood, return_counts=True)"
   ]
  },
  {
   "cell_type": "code",
   "execution_count": 329,
   "metadata": {},
   "outputs": [
    {
     "name": "stdout",
     "output_type": "stream",
     "text": [
      "[['0' '54']\n",
      " ['500' '42']]\n"
     ]
    }
   ],
   "source": [
    "category, count = np.unique(bool_active, return_counts=True)\n",
    "print(np.asarray((category, count)).T)\n"
   ]
  },
  {
   "cell_type": "code",
   "execution_count": 330,
   "metadata": {},
   "outputs": [
    {
     "data": {
      "text/plain": [
       "array(['0', '0', '0', '0', '500', '0', '0', '0', '0', '0', '0', '0',\n",
       "       '500', '0', '0', '0', '0', '0', '0', '0', '0', '0', '0', '0', '0',\n",
       "       '500', '0', '0', '0', '0', '500', '0', '0', '0', '0', '0', '500',\n",
       "       '500', '500', '500', '500', '500', '500', '500', '500', '0', '0',\n",
       "       '0', '0', '0', '0', '500', '500', '500', '500', '500', '500',\n",
       "       '500', '500', '500', '500', '500', '500', '0', '500', '500', '0',\n",
       "       '500', '500', '500', '500', '500', '0', '500', '500', '500', '500',\n",
       "       '0', '0', '0', '0', '500', '500', '500', '500', '0', '0', '0', '0',\n",
       "       '0', '0', '0', '0', '500', '0', '500'], dtype='<U10')"
      ]
     },
     "execution_count": 330,
     "metadata": {},
     "output_type": "execute_result"
    }
   ],
   "source": [
    "bool_active"
   ]
  },
  {
   "cell_type": "code",
   "execution_count": 331,
   "metadata": {},
   "outputs": [
    {
     "data": {
      "text/plain": [
       "array(['Inactive', 'Inactive', 'Inactive', 'Inactive', 'Active',\n",
       "       'Inactive', 'Inactive', 'Inactive', 'Inactive', 'Inactive',\n",
       "       'Inactive', 'Inactive', 'Active', 'Inactive', 'Inactive',\n",
       "       'Inactive', 'Inactive', 'Inactive', 'Inactive', 'Inactive',\n",
       "       'Inactive', 'Inactive', 'Inactive', 'Inactive', 'Inactive',\n",
       "       'Active', 'Inactive', 'Inactive', 'Inactive', 'Inactive', 'Active',\n",
       "       'Inactive', 'Inactive', 'Inactive', 'Inactive', 'Inactive',\n",
       "       'Active', 'Active', 'Active', 'Active', 'Active', 'Active',\n",
       "       'Active', 'Active', 'Active', 'Inactive', 'Inactive', 'Inactive',\n",
       "       'Inactive', 'Inactive', 'Inactive', 'Active', 'Active', 'Active',\n",
       "       'Active', 'Active', 'Active', 'Active', 'Active', 'Active',\n",
       "       'Active', 'Active', 'Active', 'Inactive', 'Active', 'Active',\n",
       "       'Inactive', 'Active', 'Active', 'Active', 'Active', 'Active',\n",
       "       'Inactive', 'Active', 'Active', 'Active', 'Active', 'Inactive',\n",
       "       'Inactive', 'Inactive', 'Inactive', 'Active', 'Active', 'Active',\n",
       "       'Active', 'Inactive', 'Inactive', 'Inactive', 'Inactive',\n",
       "       'Inactive', 'Inactive', 'Inactive', 'Inactive', 'Active',\n",
       "       'Inactive', 'Active'], dtype='<U10')"
      ]
     },
     "execution_count": 331,
     "metadata": {},
     "output_type": "execute_result"
    }
   ],
   "source": [
    "bool_active[bool_active==\"0\"]=\"Inactive\"\n",
    "bool_active[bool_active==\"500\"]=\"Active\"\n",
    "bool_active"
   ]
  },
  {
   "cell_type": "code",
   "execution_count": 332,
   "metadata": {},
   "outputs": [
    {
     "data": {
      "text/plain": [
       "(array(['Active', 'Inactive'], dtype='<U10'), array([42, 54]))"
      ]
     },
     "execution_count": 332,
     "metadata": {},
     "output_type": "execute_result"
    }
   ],
   "source": [
    "active_categories = np.unique(bool_active, return_counts=True)\n",
    "active_categories"
   ]
  },
  {
   "cell_type": "code",
   "execution_count": 333,
   "metadata": {},
   "outputs": [
    {
     "name": "stdout",
     "output_type": "stream",
     "text": [
      "[['Happy' '40']\n",
      " ['Neutral' '27']\n",
      " ['Sad' '29']]\n"
     ]
    }
   ],
   "source": [
    "unique, counts = np.unique(mood, return_counts=True) \n",
    "print(np.asarray((unique, counts)).T)"
   ]
  },
  {
   "cell_type": "code",
   "execution_count": 334,
   "metadata": {},
   "outputs": [
    {
     "data": {
      "text/plain": [
       "3392.725"
      ]
     },
     "execution_count": 334,
     "metadata": {},
     "output_type": "execute_result"
    }
   ],
   "source": [
    "avg_step_count_when_happy = np.mean(step_count[mood==\"Happy\"])\n",
    "avg_step_count_when_happy"
   ]
  },
  {
   "cell_type": "code",
   "execution_count": 335,
   "metadata": {},
   "outputs": [
    {
     "name": "stdout",
     "output_type": "stream",
     "text": [
      "[['Happy' '22']\n",
      " ['Neutral' '9']\n",
      " ['Sad' '7']]\n"
     ]
    }
   ],
   "source": [
    "more_than_4000Steps = np.unique(mood[step_count>4000], return_counts=True)\n",
    "print(np.asarray(more_than_4000Steps).T)\n"
   ]
  },
  {
   "cell_type": "markdown",
   "metadata": {},
   "source": [
    "# Some Insigths to derive:\n",
    "<!-- 1. Is there a correlation b/w Mood and the calories_burnt? If yes, what's the mood of the person when he burns more calories?\n",
    "2. What's the correlation b/w Mood and the hours_of_sleep? Is a particular Mood impacts the hours of sleep?\n",
    "3. Though the person is consistently doing workout, weight hasn't reduced drastically, why? -->"
   ]
  },
  {
   "cell_type": "code",
   "execution_count": 336,
   "metadata": {},
   "outputs": [
    {
     "name": "stdout",
     "output_type": "stream",
     "text": [
      "243\n"
     ]
    }
   ],
   "source": [
    "# Max calories burnt when is Happy\n",
    "max_cal_burnt_when_happy = np.max(calories_burnt[mood==\"Happy\"])\n",
    "print(max_cal_burnt_when_happy)\n"
   ]
  },
  {
   "cell_type": "code",
   "execution_count": 337,
   "metadata": {},
   "outputs": [
    {
     "data": {
      "text/plain": [
       "'Sad'"
      ]
     },
     "execution_count": 337,
     "metadata": {},
     "output_type": "execute_result"
    }
   ],
   "source": [
    "# Mood when min calories burnt\n",
    "mood[np.argmin(calories_burnt)]"
   ]
  },
  {
   "cell_type": "code",
   "execution_count": 338,
   "metadata": {},
   "outputs": [
    {
     "name": "stdout",
     "output_type": "stream",
     "text": [
      "Maximum hours of Sleep: 9\n",
      "Mood, when he sleeps more: Happy\n"
     ]
    }
   ],
   "source": [
    "# Max hours of Sleep and corresponding Mood\n",
    "\n",
    "max_hours_of_sleep = np.max(hours_of_sleep)\n",
    "mood_when_sleep_more = mood[np.argmax(hours_of_sleep)]\n",
    "print(f\"Maximum hours of Sleep: {max_hours_of_sleep}\")\n",
    "print(f\"Mood, when he sleeps more: {mood_when_sleep_more}\")\n"
   ]
  },
  {
   "cell_type": "code",
   "execution_count": 339,
   "metadata": {},
   "outputs": [
    {
     "name": "stdout",
     "output_type": "stream",
     "text": [
      "Minimum hours of sleep: 2\n",
      "Mood, when sleeps less: Happy\n"
     ]
    }
   ],
   "source": [
    "# Min hours of sleep and corresponding Mood\n",
    "\n",
    "min_hours_of_sleep = np.min(hours_of_sleep)\n",
    "mood_when_sleeps_less = mood[np.argmin(hours_of_sleep)]\n",
    "print(f\"Minimum hours of sleep: {min_hours_of_sleep}\")\n",
    "print(f\"Mood, when sleeps less: {mood_when_sleeps_less}\")"
   ]
  },
  {
   "cell_type": "code",
   "execution_count": 340,
   "metadata": {},
   "outputs": [
    {
     "data": {
      "text/plain": [
       "(array([[ 3.,  0.,  0.,  0.,  0.,  0.,  0.,  0.,  0.,  0.],\n",
       "        [ 9.,  0.,  0.,  0.,  0.,  0.,  0.,  0.,  0.,  0.],\n",
       "        [13.,  0.,  0.,  0.,  0.,  0.,  0.,  0.,  0.,  1.],\n",
       "        [ 0.,  0.,  0.,  0.,  0.,  0.,  0.,  0.,  0.,  0.],\n",
       "        [30.,  0.,  0.,  0.,  0.,  3.,  0.,  0.,  0.,  4.],\n",
       "        [11.,  0.,  0.,  0.,  0.,  3.,  0.,  0.,  0.,  2.],\n",
       "        [ 0.,  0.,  0.,  0.,  0.,  0.,  0.,  0.,  0.,  0.],\n",
       "        [ 4.,  0.,  0.,  0.,  0.,  1.,  0.,  0.,  0.,  1.],\n",
       "        [ 7.,  0.,  0.,  0.,  0.,  2.,  0.,  0.,  0.,  1.],\n",
       "        [ 1.,  0.,  0.,  0.,  0.,  0.,  0.,  0.,  0.,  0.]]),\n",
       " array([2. , 2.7, 3.4, 4.1, 4.8, 5.5, 6.2, 6.9, 7.6, 8.3, 9. ]),\n",
       " array([64. , 64.2, 64.4, 64.6, 64.8, 65. , 65.2, 65.4, 65.6, 65.8, 66. ]))"
      ]
     },
     "execution_count": 340,
     "metadata": {},
     "output_type": "execute_result"
    }
   ],
   "source": [
    "np.histogram2d(hours_of_sleep, weight)"
   ]
  },
  {
   "cell_type": "code",
   "execution_count": 341,
   "metadata": {},
   "outputs": [
    {
     "data": {
      "text/plain": [
       "array(['Inactive', 'Inactive', 'Inactive', 'Inactive', 'Active',\n",
       "       'Inactive', 'Inactive', 'Inactive', 'Inactive', 'Inactive',\n",
       "       'Inactive', 'Inactive', 'Active', 'Inactive', 'Inactive',\n",
       "       'Inactive', 'Inactive', 'Inactive', 'Inactive', 'Inactive',\n",
       "       'Inactive', 'Inactive', 'Inactive', 'Inactive', 'Inactive',\n",
       "       'Active', 'Inactive', 'Inactive', 'Inactive', 'Inactive', 'Active',\n",
       "       'Inactive', 'Inactive', 'Inactive', 'Inactive', 'Inactive',\n",
       "       'Active', 'Active', 'Active', 'Active', 'Active', 'Active',\n",
       "       'Active', 'Active', 'Active', 'Inactive', 'Inactive', 'Inactive',\n",
       "       'Inactive', 'Inactive', 'Inactive', 'Active', 'Active', 'Active',\n",
       "       'Active', 'Active', 'Active', 'Active', 'Active', 'Active',\n",
       "       'Active', 'Active', 'Active', 'Inactive', 'Active', 'Active',\n",
       "       'Inactive', 'Active', 'Active', 'Active', 'Active', 'Active',\n",
       "       'Inactive', 'Active', 'Active', 'Active', 'Active', 'Inactive',\n",
       "       'Inactive', 'Inactive', 'Inactive', 'Active', 'Active', 'Active',\n",
       "       'Active', 'Inactive', 'Inactive', 'Inactive', 'Inactive',\n",
       "       'Inactive', 'Inactive', 'Inactive', 'Inactive', 'Active',\n",
       "       'Inactive', 'Active'], dtype='<U10')"
      ]
     },
     "execution_count": 341,
     "metadata": {},
     "output_type": "execute_result"
    }
   ],
   "source": [
    "bool_active[bool_active==\"1\"]=\"Active\"\n",
    "bool_active[bool_active==\"0\"]=\"Inactive\"\n",
    "bool_active"
   ]
  },
  {
   "cell_type": "code",
   "execution_count": 342,
   "metadata": {},
   "outputs": [
    {
     "name": "stdout",
     "output_type": "stream",
     "text": [
      "[['Active' '42']\n",
      " ['Inactive' '54']]\n"
     ]
    }
   ],
   "source": [
    "temp = np.unique(bool_active, return_counts=True)\n",
    "print(np.asarray(temp).T)"
   ]
  },
  {
   "cell_type": "code",
   "execution_count": 343,
   "metadata": {},
   "outputs": [
    {
     "name": "stdout",
     "output_type": "stream",
     "text": [
      "Mood when Active:\n",
      "[['Happy' '24']\n",
      " ['Neutral' '14']\n",
      " ['Sad' '4']]\n",
      "Mood when Inactive\n",
      "[['Happy' '16']\n",
      " ['Neutral' '13']\n",
      " ['Sad' '25']]\n"
     ]
    }
   ],
   "source": [
    "# mood[np.unique(bool_active, return_counts=True)]    # to calculate the mood count based on Active/Inactive state \n",
    "\n",
    "moods_when_active = np.unique(mood[bool_active==\"Active\"], return_counts=True)\n",
    "moods_when_not_active = np.unique(mood[bool_active==\"Inactive\"], return_counts=True)\n",
    "print(\"Mood when Active:\")\n",
    "print(np.asarray(moods_when_active).T)\n",
    "print(\"Mood when Inactive\")\n",
    "print(np.asarray(moods_when_not_active).T)"
   ]
  },
  {
   "cell_type": "code",
   "execution_count": 344,
   "metadata": {},
   "outputs": [],
   "source": [
    "a = [\n",
    "    [1, 2, 3],\n",
    "    [4, 5, 6],\n",
    "    [7, 8, 9]\n",
    "]\n"
   ]
  },
  {
   "cell_type": "code",
   "execution_count": 345,
   "metadata": {},
   "outputs": [
    {
     "data": {
      "text/plain": [
       "9"
      ]
     },
     "execution_count": 345,
     "metadata": {},
     "output_type": "execute_result"
    }
   ],
   "source": [
    "np.max(a)"
   ]
  },
  {
   "cell_type": "code",
   "execution_count": 346,
   "metadata": {},
   "outputs": [
    {
     "data": {
      "text/plain": [
       "array([3, 6, 9])"
      ]
     },
     "execution_count": 346,
     "metadata": {},
     "output_type": "execute_result"
    }
   ],
   "source": [
    "np.max(a, axis=1)"
   ]
  },
  {
   "cell_type": "code",
   "execution_count": 347,
   "metadata": {},
   "outputs": [
    {
     "data": {
      "text/plain": [
       "array([7, 8, 9])"
      ]
     },
     "execution_count": 347,
     "metadata": {},
     "output_type": "execute_result"
    }
   ],
   "source": [
    "np.max(a, axis=0)"
   ]
  },
  {
   "cell_type": "code",
   "execution_count": 348,
   "metadata": {},
   "outputs": [
    {
     "data": {
      "text/plain": [
       "array([ 1,  2,  3,  4,  5,  6,  7,  8,  9, 10, 11, 12])"
      ]
     },
     "execution_count": 348,
     "metadata": {},
     "output_type": "execute_result"
    }
   ],
   "source": [
    "arr = np.arange(1, 13)\n",
    "arr"
   ]
  },
  {
   "cell_type": "code",
   "execution_count": 349,
   "metadata": {},
   "outputs": [
    {
     "data": {
      "text/plain": [
       "array([[ 1,  2,  3,  4],\n",
       "       [ 5,  6,  7,  8],\n",
       "       [ 9, 10, 11, 12]])"
      ]
     },
     "execution_count": 349,
     "metadata": {},
     "output_type": "execute_result"
    }
   ],
   "source": [
    "arr.reshape(3,4)"
   ]
  },
  {
   "cell_type": "code",
   "execution_count": 350,
   "metadata": {},
   "outputs": [
    {
     "name": "stdout",
     "output_type": "stream",
     "text": [
      "[   1    8   27   64  125  216  343  512  729 1000 1331 1728]\n"
     ]
    }
   ],
   "source": [
    "def cube(s):\n",
    "    return s**3\n",
    "print(cube(arr))"
   ]
  },
  {
   "cell_type": "code",
   "execution_count": 351,
   "metadata": {},
   "outputs": [
    {
     "data": {
      "text/plain": [
       "array([ 1,  2,  3,  4,  5,  6,  7,  8,  9, 10, 11, 12])"
      ]
     },
     "execution_count": 351,
     "metadata": {},
     "output_type": "execute_result"
    }
   ],
   "source": [
    "arr"
   ]
  },
  {
   "cell_type": "code",
   "execution_count": 352,
   "metadata": {},
   "outputs": [
    {
     "data": {
      "text/plain": [
       "array([[ 1,  2,  3,  4],\n",
       "       [ 5,  6,  7,  8],\n",
       "       [ 9, 10, 11, 12]])"
      ]
     },
     "execution_count": 352,
     "metadata": {},
     "output_type": "execute_result"
    }
   ],
   "source": [
    "arr1 = arr.reshape(3, 4)\n",
    "arr1"
   ]
  },
  {
   "cell_type": "code",
   "execution_count": 353,
   "metadata": {},
   "outputs": [
    {
     "data": {
      "text/plain": [
       "array([ 1,  2,  3,  4,  5,  6,  7,  8,  9, 10, 11, 12])"
      ]
     },
     "execution_count": 353,
     "metadata": {},
     "output_type": "execute_result"
    }
   ],
   "source": [
    "arr1.flatten()"
   ]
  },
  {
   "cell_type": "code",
   "execution_count": 354,
   "metadata": {},
   "outputs": [
    {
     "data": {
      "text/plain": [
       "array([[ 1,  2,  3,  4],\n",
       "       [ 5,  6,  7,  8],\n",
       "       [ 9, 10, 11, 12]])"
      ]
     },
     "execution_count": 354,
     "metadata": {},
     "output_type": "execute_result"
    }
   ],
   "source": [
    "arr1 = arr1.reshape(3, 4)\n",
    "arr1"
   ]
  },
  {
   "cell_type": "code",
   "execution_count": 355,
   "metadata": {},
   "outputs": [
    {
     "data": {
      "text/plain": [
       "array([[ 1,  2,  3,  4,  1,  2,  3,  4],\n",
       "       [ 5,  6,  7,  8,  5,  6,  7,  8],\n",
       "       [ 9, 10, 11, 12,  9, 10, 11, 12],\n",
       "       [ 1,  2,  3,  4,  1,  2,  3,  4],\n",
       "       [ 5,  6,  7,  8,  5,  6,  7,  8],\n",
       "       [ 9, 10, 11, 12,  9, 10, 11, 12]])"
      ]
     },
     "execution_count": 355,
     "metadata": {},
     "output_type": "execute_result"
    }
   ],
   "source": [
    "np.tile(arr1, (2,2))"
   ]
  },
  {
   "cell_type": "code",
   "execution_count": 356,
   "metadata": {},
   "outputs": [
    {
     "data": {
      "text/plain": [
       "array([[ 1,  2,  3,  4,  1,  2,  3,  4,  1,  2,  3,  4,  1,  2,  3,  4],\n",
       "       [ 5,  6,  7,  8,  5,  6,  7,  8,  5,  6,  7,  8,  5,  6,  7,  8],\n",
       "       [ 9, 10, 11, 12,  9, 10, 11, 12,  9, 10, 11, 12,  9, 10, 11, 12],\n",
       "       [ 1,  2,  3,  4,  1,  2,  3,  4,  1,  2,  3,  4,  1,  2,  3,  4],\n",
       "       [ 5,  6,  7,  8,  5,  6,  7,  8,  5,  6,  7,  8,  5,  6,  7,  8],\n",
       "       [ 9, 10, 11, 12,  9, 10, 11, 12,  9, 10, 11, 12,  9, 10, 11, 12],\n",
       "       [ 1,  2,  3,  4,  1,  2,  3,  4,  1,  2,  3,  4,  1,  2,  3,  4],\n",
       "       [ 5,  6,  7,  8,  5,  6,  7,  8,  5,  6,  7,  8,  5,  6,  7,  8],\n",
       "       [ 9, 10, 11, 12,  9, 10, 11, 12,  9, 10, 11, 12,  9, 10, 11, 12]])"
      ]
     },
     "execution_count": 356,
     "metadata": {},
     "output_type": "execute_result"
    }
   ],
   "source": [
    "np.tile(arr1, (3, 4))"
   ]
  },
  {
   "cell_type": "code",
   "execution_count": 357,
   "metadata": {},
   "outputs": [
    {
     "name": "stdout",
     "output_type": "stream",
     "text": [
      "True\n"
     ]
    }
   ],
   "source": [
    "# Quiz Qn #1 to test np.all\n",
    "\n",
    "m = np.array([[1, 2, 3],\n",
    "            [4, 5, 6],\n",
    "            [7, 8, 9]])\n",
    "\n",
    "n = np.array([[1, 2, 3],\n",
    "            [4, 5, 6],\n",
    "            [7, 8, 9]]\n",
    ")\n",
    "print(np.all(m==n))\n"
   ]
  },
  {
   "cell_type": "code",
   "execution_count": 358,
   "metadata": {},
   "outputs": [
    {
     "name": "stdout",
     "output_type": "stream",
     "text": [
      "True\n"
     ]
    }
   ],
   "source": [
    "# Quiz Qn #2 to test np.any\n",
    "\n",
    "m = np.array([[1, 2, 3],\n",
    "            [4, 6, 6],\n",
    "            [7, 8, 9]])\n",
    "\n",
    "n = np.array([[1, 2, 3],\n",
    "            [4, 5, 6],\n",
    "            [7, 8, 9]]\n",
    ")\n",
    "print(np.any(m>n))"
   ]
  },
  {
   "cell_type": "code",
   "execution_count": 359,
   "metadata": {},
   "outputs": [
    {
     "name": "stdout",
     "output_type": "stream",
     "text": [
      "False\n"
     ]
    }
   ],
   "source": [
    "# Quiz Qn #3 \n",
    "\n",
    "x = [1, 2, 3]\n",
    "y = [3, 4, 5]\n",
    "\n",
    "print(x>=y)"
   ]
  },
  {
   "cell_type": "code",
   "execution_count": 360,
   "metadata": {},
   "outputs": [
    {
     "name": "stdout",
     "output_type": "stream",
     "text": [
      "[False False False]\n"
     ]
    }
   ],
   "source": [
    "# Quiz Qn #3.1 Check the difference b/w this one and the above one\n",
    "\n",
    "x = np.array([1, 2, 3])\n",
    "y = np.array([3, 4, 5])\n",
    "\n",
    "print(x>=y)"
   ]
  },
  {
   "cell_type": "code",
   "execution_count": 361,
   "metadata": {},
   "outputs": [
    {
     "data": {
      "text/plain": [
       "array([[12, 21, 32],\n",
       "       [ 4, 30, 56],\n",
       "       [ 3, 10, 75]])"
      ]
     },
     "execution_count": 361,
     "metadata": {},
     "output_type": "execute_result"
    }
   ],
   "source": [
    "# Simple np sorting; by default axis value is 1 which is horizontal sorting\n",
    "\n",
    "someArray = np.array([\n",
    "    [21, 12, 32],\n",
    "    [4, 56, 30],\n",
    "    [75, 3, 10]]\n",
    ")\n",
    "np.sort(someArray)"
   ]
  },
  {
   "cell_type": "code",
   "execution_count": 362,
   "metadata": {},
   "outputs": [
    {
     "data": {
      "text/plain": [
       "array([[ 4,  3, 10],\n",
       "       [21, 12, 30],\n",
       "       [75, 56, 32]])"
      ]
     },
     "execution_count": 362,
     "metadata": {},
     "output_type": "execute_result"
    }
   ],
   "source": [
    "# axis = 0 is vertical sorting\n",
    "\n",
    "np.sort(someArray, axis=0)"
   ]
  },
  {
   "cell_type": "code",
   "execution_count": 363,
   "metadata": {},
   "outputs": [
    {
     "data": {
      "text/plain": [
       "array([[1, 2, 3],\n",
       "       [4, 6, 6],\n",
       "       [7, 8, 9]])"
      ]
     },
     "execution_count": 363,
     "metadata": {},
     "output_type": "execute_result"
    }
   ],
   "source": [
    "m"
   ]
  },
  {
   "cell_type": "code",
   "execution_count": 364,
   "metadata": {},
   "outputs": [
    {
     "name": "stdout",
     "output_type": "stream",
     "text": [
      "9\n"
     ]
    }
   ],
   "source": [
    "# Max value from the whole array\n",
    "print(np.max(m))"
   ]
  },
  {
   "cell_type": "code",
   "execution_count": 365,
   "metadata": {},
   "outputs": [
    {
     "name": "stdout",
     "output_type": "stream",
     "text": [
      "[7 8 9]\n"
     ]
    }
   ],
   "source": [
    "# Max value from the whole array but column-wise (vertically)\n",
    "print(np.max(m, axis=0))"
   ]
  },
  {
   "cell_type": "code",
   "execution_count": 366,
   "metadata": {},
   "outputs": [
    {
     "name": "stdout",
     "output_type": "stream",
     "text": [
      "[3 6 9]\n"
     ]
    }
   ],
   "source": [
    "# Max value from the whole array but row-wise (Horizontally)\n",
    "print(np.max(m, axis=1))"
   ]
  },
  {
   "cell_type": "code",
   "execution_count": 369,
   "metadata": {},
   "outputs": [
    {
     "name": "stdout",
     "output_type": "stream",
     "text": [
      "15\n"
     ]
    }
   ],
   "source": [
    "# Quiz Qn#5 \n",
    "i = np.array([1, 2, 3, 4, 5])\n",
    "j = np.array([0, 3, 2, 4, 1])\n",
    "k = i+j\n",
    "k = k*i\n",
    "print(k[2])"
   ]
  },
  {
   "cell_type": "code",
   "execution_count": null,
   "metadata": {},
   "outputs": [],
   "source": []
  }
 ],
 "metadata": {
  "kernelspec": {
   "display_name": "Python 3.8.9 64-bit",
   "language": "python",
   "name": "python3"
  },
  "language_info": {
   "codemirror_mode": {
    "name": "ipython",
    "version": 3
   },
   "file_extension": ".py",
   "mimetype": "text/x-python",
   "name": "python",
   "nbconvert_exporter": "python",
   "pygments_lexer": "ipython3",
   "version": "3.8.9"
  },
  "orig_nbformat": 4,
  "vscode": {
   "interpreter": {
    "hash": "31f2aee4e71d21fbe5cf8b01ff0e069b9275f58929596ceb00d14d90e3e16cd6"
   }
  }
 },
 "nbformat": 4,
 "nbformat_minor": 2
}
